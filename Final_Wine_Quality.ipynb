{
  "cells": [
    {
      "cell_type": "markdown",
      "metadata": {
        "id": "view-in-github",
        "colab_type": "text"
      },
      "source": [
        "<a href=\"https://colab.research.google.com/github/Bookky123/Wine-Quality/blob/main/Final_Wine_Quality.ipynb\" target=\"_parent\"><img src=\"https://colab.research.google.com/assets/colab-badge.svg\" alt=\"Open In Colab\"/></a>"
      ]
    },
    {
      "cell_type": "code",
      "execution_count": null,
      "metadata": {
        "id": "pOVxmqu08nE-"
      },
      "outputs": [],
      "source": [
        "!pip install opendatasets -q"
      ]
    },
    {
      "cell_type": "markdown",
      "metadata": {
        "id": "lDZ7JW7G9upU"
      },
      "source": [
        "# **Import library**"
      ]
    },
    {
      "cell_type": "code",
      "execution_count": null,
      "metadata": {
        "id": "2jehQ8-c9U_F"
      },
      "outputs": [],
      "source": [
        "from os.path import split\n",
        "import pandas as pd\n",
        "import numpy as np\n",
        "import matplotlib.pyplot as plt\n",
        "import seaborn as sns\n",
        "\n",
        "from sklearn.model_selection import train_test_split, GridSearchCV\n",
        "from sklearn.ensemble import RandomForestClassifier\n",
        "from sklearn.metrics import accuracy_score, classification_report, confusion_matrix\n",
        "from imblearn.over_sampling import SMOTE\n",
        "from sklearn.neighbors import KNeighborsClassifier\n",
        "from sklearn.svm import SVC"
      ]
    },
    {
      "cell_type": "markdown",
      "metadata": {
        "id": "HH9ds0GA93E1"
      },
      "source": [
        "##download data from kaggle"
      ]
    },
    {
      "cell_type": "code",
      "execution_count": null,
      "metadata": {
        "id": "omOH07zy8q8m"
      },
      "outputs": [],
      "source": [
        "import opendatasets as od\n",
        "od.download('https://www.kaggle.com/datasets/uciml/red-wine-quality-cortez-et-al-2009')"
      ]
    },
    {
      "cell_type": "code",
      "execution_count": null,
      "metadata": {
        "id": "IU4PD6Jy8rD6"
      },
      "outputs": [],
      "source": [
        "file = ('/content/red-wine-quality-cortez-et-al-2009/winequality-red.csv')\n",
        "df = pd.read_csv(file)\n",
        "df.sample(10)"
      ]
    },
    {
      "cell_type": "code",
      "source": [
        "# สมมติว่าข้อมูลของคุณอยู่ใน DataFrame ชื่อว่า df\n",
        "min_values = df.min()\n",
        "max_values = df.max()\n",
        "\n",
        "print(\"ค่าต่ำสุดของแต่ละคอลัมน์:\\n\", min_values)\n",
        "print(\"\\nค่าสูงสุดของแต่ละคอลัมน์:\\n\", max_values)"
      ],
      "metadata": {
        "id": "rBpxqvB6ZT8k"
      },
      "execution_count": null,
      "outputs": []
    },
    {
      "cell_type": "code",
      "source": [],
      "metadata": {
        "id": "mMcafQXcaAio"
      },
      "execution_count": null,
      "outputs": []
    },
    {
      "cell_type": "code",
      "execution_count": null,
      "metadata": {
        "id": "hPNfeN8t8rKo"
      },
      "outputs": [],
      "source": [
        "df.info()"
      ]
    },
    {
      "cell_type": "markdown",
      "metadata": {
        "id": "HotoLJdE99yH"
      },
      "source": [
        "# **Data Preprocessing**"
      ]
    },
    {
      "cell_type": "markdown",
      "metadata": {
        "id": "AEJIh-bPAxqq"
      },
      "source": [
        "## missing value"
      ]
    },
    {
      "cell_type": "code",
      "execution_count": null,
      "metadata": {
        "id": "S3gFv2AQ8rQp"
      },
      "outputs": [],
      "source": [
        "df.isnull().sum()"
      ]
    },
    {
      "cell_type": "code",
      "execution_count": null,
      "metadata": {
        "id": "EZdcmoUT8rhI"
      },
      "outputs": [],
      "source": [
        "columns = list(df.columns)\n",
        "columns"
      ]
    },
    {
      "cell_type": "markdown",
      "metadata": {
        "id": "sj0m71uLA3D3"
      },
      "source": [
        "## visualization & plots"
      ]
    },
    {
      "cell_type": "markdown",
      "metadata": {
        "id": "S_Lt1AuXBpqy"
      },
      "source": [
        "### heatmap"
      ]
    },
    {
      "cell_type": "code",
      "execution_count": null,
      "metadata": {
        "id": "AgRB7rhk8rnV"
      },
      "outputs": [],
      "source": [
        "corr = df.corr()\n",
        "plt.figure(figsize=(10,8))\n",
        "sns.heatmap(corr, annot=True, cmap='coolwarm', fmt='.2f', vmin=-1, vmax=1)\n",
        "plt.title('Correlation Matrix')"
      ]
    },
    {
      "cell_type": "markdown",
      "metadata": {
        "id": "ERq3lF54HgAU"
      },
      "source": [
        "### Scatterplot & Boxplot"
      ]
    },
    {
      "cell_type": "code",
      "execution_count": null,
      "metadata": {
        "id": "72Zcfp47A_t_"
      },
      "outputs": [],
      "source": [
        "fig, ax = plt.subplots(11, 2, figsize=(16,45))\n",
        "plt.subplots_adjust(hspace=0.5)\n",
        "for i in range(11):\n",
        "    sns.boxplot(x=columns[i], data=df, ax=ax[i,0])\n",
        "    sns.scatterplot(x=columns[i], y='quality',data=df, ax=ax[i,1],hue='quality')"
      ]
    },
    {
      "cell_type": "markdown",
      "metadata": {
        "id": "r1YrKplTHsMp"
      },
      "source": [
        "### Target categorizing"
      ]
    },
    {
      "cell_type": "code",
      "execution_count": null,
      "metadata": {
        "id": "20leSTGY-Mlo"
      },
      "outputs": [],
      "source": [
        "df.quality.unique()"
      ]
    },
    {
      "cell_type": "code",
      "execution_count": null,
      "metadata": {
        "collapsed": true,
        "id": "tYpYc2UG-Mso"
      },
      "outputs": [],
      "source": [
        "df = df.replace({'quality' : {\n",
        "    3 : 'bad',\n",
        "    4 : 'bad',\n",
        "    5 : 'middle',\n",
        "    6 : 'middle',\n",
        "    7 : 'good',\n",
        "    8 : 'good',\n",
        "}})"
      ]
    },
    {
      "cell_type": "code",
      "execution_count": null,
      "metadata": {
        "id": "AVFJpwEI-MzC"
      },
      "outputs": [],
      "source": [
        "df.head(5)"
      ]
    },
    {
      "cell_type": "markdown",
      "metadata": {
        "id": "nXqD11HsIiOd"
      },
      "source": [
        "### Normalization"
      ]
    },
    {
      "cell_type": "code",
      "execution_count": null,
      "metadata": {
        "id": "vGNb14pd-M5i"
      },
      "outputs": [],
      "source": [
        "X = df.drop(columns='quality')\n",
        "y = df.quality"
      ]
    },
    {
      "cell_type": "code",
      "execution_count": null,
      "metadata": {
        "id": "uPS-t_Dr-M-y"
      },
      "outputs": [],
      "source": [
        "df.describe()"
      ]
    },
    {
      "cell_type": "markdown",
      "metadata": {
        "id": "3lJ7M9IDJLWC"
      },
      "source": [
        "# Modeling"
      ]
    },
    {
      "cell_type": "code",
      "execution_count": null,
      "metadata": {
        "id": "kd97smdj-ND7"
      },
      "outputs": [],
      "source": [
        "df.quality.value_counts()"
      ]
    },
    {
      "cell_type": "code",
      "execution_count": null,
      "metadata": {
        "id": "-CkmC4zA-NJD"
      },
      "outputs": [],
      "source": [
        "X_train, X_test, y_train, y_test = train_test_split(X,y, test_size=0.25, random_state=42)"
      ]
    },
    {
      "cell_type": "markdown",
      "metadata": {
        "id": "GD7P1U5GqNUV"
      },
      "source": [
        "## SMOTE"
      ]
    },
    {
      "cell_type": "code",
      "execution_count": null,
      "metadata": {
        "id": "0PrFYQ6lqTC-"
      },
      "outputs": [],
      "source": [
        "#เเยกตัวที่ต้องการ ปรับสมดุล ในกรณีนี้เราสนใจ good&middle\n",
        "X_train_gm = X_train[y_train.isin(['good','middle'])]\n",
        "y_train_gm = y_train[y_train.isin(['good','middle'])]\n",
        "\n",
        "#ใช้ smote ปรับสมดุล good&middle\n",
        "smote = SMOTE(random_state=42)\n",
        "X_resampled, y_resampled = smote.fit_resample(X_train_gm, y_train_gm)"
      ]
    },
    {
      "cell_type": "code",
      "execution_count": null,
      "metadata": {
        "id": "gDJZaynVtPpC"
      },
      "outputs": [],
      "source": [
        "#รวมข้อมูลที่ปรับสมดุลเเล้ว กับ bad\n",
        "X_train_bad = X_train[y_train == 'bad']\n",
        "y_train_bad = y_train[y_train == 'bad']\n",
        "\n",
        "X_train_resampled = pd.concat([X_resampled, X_train_bad])\n",
        "y_train_resampled = pd.concat([y_resampled, y_train_bad])\n",
        "#ข้อมูลถูกปรับสมดุลเเล้ว"
      ]
    },
    {
      "cell_type": "markdown",
      "metadata": {
        "id": "AZbQbXY-LQLr"
      },
      "source": [
        "## RandomForestClassifier"
      ]
    },
    {
      "cell_type": "code",
      "execution_count": null,
      "metadata": {
        "id": "6cWHj8GG-NMR"
      },
      "outputs": [],
      "source": [
        "parameters = {\n",
        "    'n_estimators' : [50,150,500,1000],\n",
        "    'criterion' : ['gini','entropy'],\n",
        "    'max_features' : ['sqrt','log2']\n",
        "}\n",
        "\n",
        "rfc = RandomForestClassifier(n_jobs=-1)\n",
        "rfc_cv = GridSearchCV(estimator=rfc, param_grid=parameters, cv=10).fit(X_train_resampled, y_train_resampled)\n",
        "\n",
        "print(rfc_cv.best_params_)\n",
        "print('accuracy_score :' ,rfc_cv.best_score_)"
      ]
    },
    {
      "cell_type": "code",
      "execution_count": null,
      "metadata": {
        "id": "yGmWClw0O5tI"
      },
      "outputs": [],
      "source": [
        "rf = RandomForestClassifier(**rfc_cv.best_params_).fit(X_train_resampled, y_train_resampled)\n",
        "\n",
        "#Predict model\n",
        "y_pred_rf = rf.predict(X_test)\n",
        "\n",
        "rf_score = round(rf.score(X_test,y_test),3)\n",
        "print('RandomForestClassifier Score : ',rf_score)"
      ]
    },
    {
      "cell_type": "code",
      "execution_count": null,
      "metadata": {
        "id": "3tX_cqGiO51t"
      },
      "outputs": [],
      "source": [
        "y_test.value_counts()"
      ]
    },
    {
      "cell_type": "code",
      "execution_count": null,
      "metadata": {
        "id": "KtCvK0EN-NP9"
      },
      "outputs": [],
      "source": [
        "print(classification_report(y_test, y_pred_rf))"
      ]
    },
    {
      "cell_type": "code",
      "execution_count": null,
      "metadata": {
        "id": "d5xscbTA-NRr"
      },
      "outputs": [],
      "source": [
        "print(confusion_matrix(y_test, y_pred_rf))"
      ]
    },
    {
      "cell_type": "markdown",
      "metadata": {
        "id": "vd3eOH6zy-Rb"
      },
      "source": [
        "### Bad & Not Bad"
      ]
    },
    {
      "cell_type": "markdown",
      "metadata": {
        "id": "1PzXpk1t0PIu"
      },
      "source": [
        "เเยกทำนาย ค่า Bad เพราะ ในโมเดล ไม่สามารถทำนายค่าBad ได้เลย"
      ]
    },
    {
      "cell_type": "code",
      "execution_count": null,
      "metadata": {
        "id": "JvBelNr1-NTn"
      },
      "outputs": [],
      "source": [
        "#สร้าง columns is_bad\n",
        "df['is_bad'] = df['quality'].apply(lambda x: 1 if x == 'bad' else 0)\n",
        "\n",
        "#เเบ่ง X,y\n",
        "X_bad = df.drop(columns=['quality', 'is_bad'], axis=1)\n",
        "y_bad = df['is_bad']"
      ]
    },
    {
      "cell_type": "code",
      "execution_count": null,
      "metadata": {
        "id": "-FV35LD4-NVp"
      },
      "outputs": [],
      "source": [
        "X_train_bad, X_test_bad, y_train_bad, y_test_bad = train_test_split(X_bad,y_bad, test_size=0.2, random_state=42)"
      ]
    },
    {
      "cell_type": "code",
      "execution_count": null,
      "metadata": {
        "id": "LHg6BmLa-NXd"
      },
      "outputs": [],
      "source": [
        "#สร้าง Model is bad\n",
        "rf_bad = RandomForestClassifier(**rfc_cv.best_params_).fit(X_train_bad, y_train_bad)\n",
        "rf_bad.fit(X_train_bad, y_train_bad)"
      ]
    },
    {
      "cell_type": "code",
      "execution_count": null,
      "metadata": {
        "id": "CcKSc39Q-NZL"
      },
      "outputs": [],
      "source": [
        "# predict\n",
        "y_pred_bad = rf_bad.predict(X_test_bad)"
      ]
    },
    {
      "cell_type": "code",
      "execution_count": null,
      "metadata": {
        "id": "mHwMs2R94e2z"
      },
      "outputs": [],
      "source": [
        "print(classification_report(y_test_bad, y_pred_bad))"
      ]
    },
    {
      "cell_type": "code",
      "execution_count": null,
      "metadata": {
        "id": "Y2mNMU0O8rtS"
      },
      "outputs": [],
      "source": [
        "print(confusion_matrix(y_test_bad, y_pred_bad))"
      ]
    },
    {
      "cell_type": "markdown",
      "metadata": {
        "id": "t_jWZmbA567B"
      },
      "source": [
        "##  KNeighborsClassifier"
      ]
    },
    {
      "cell_type": "code",
      "execution_count": null,
      "metadata": {
        "id": "uOFj8hwK6EGs"
      },
      "outputs": [],
      "source": [
        "parameters = {\n",
        "    'n_neighbors' : list(np.arange(3,50,2)),\n",
        "    'weights' : ['uniform', 'distance'],\n",
        "    'p' : [1,2,3,4]\n",
        "}\n",
        "\n",
        "knn = KNeighborsClassifier()\n",
        "knn_cv = GridSearchCV(estimator=knn, param_grid=parameters, cv=10).fit(X_train_resampled,y_train_resampled)\n",
        "\n",
        "print(knn_cv.best_params_)\n",
        "print('accurracy ',knn_cv.best_score_)"
      ]
    },
    {
      "cell_type": "code",
      "execution_count": null,
      "metadata": {
        "id": "5aHp8yfmBHFH"
      },
      "outputs": [],
      "source": [
        "knn = KNeighborsClassifier(**knn_cv.best_params_).fit(X_train_resampled, y_train_resampled)"
      ]
    },
    {
      "cell_type": "code",
      "execution_count": null,
      "metadata": {
        "id": "lPzzqtFRBfTY"
      },
      "outputs": [],
      "source": [
        "y_pred_knn = knn_cv.predict(X_test)\n",
        "\n",
        "knn_score = round(knn_cv.score(X_test,y_test), 3)\n",
        "print('KNeighborsClassifier Score : ',knn_score)"
      ]
    },
    {
      "cell_type": "code",
      "execution_count": null,
      "metadata": {
        "id": "Oyk1uhdsISUk"
      },
      "outputs": [],
      "source": [
        "print(classification_report(y_test, y_pred_knn))"
      ]
    },
    {
      "cell_type": "code",
      "execution_count": null,
      "metadata": {
        "id": "NiowunNTIaZ4"
      },
      "outputs": [],
      "source": [
        "print(confusion_matrix(y_test, y_pred_knn))"
      ]
    },
    {
      "cell_type": "markdown",
      "metadata": {
        "id": "SffaxvzgR86M"
      },
      "source": [
        "## SVC"
      ]
    },
    {
      "cell_type": "code",
      "execution_count": null,
      "metadata": {
        "id": "glXEKhzwSJnu"
      },
      "outputs": [],
      "source": [
        "parameters = {\n",
        "    'C' : [0.001, 0.01, 0.1, 1, 10, 100],\n",
        "    'gamma' : [0.001, 0.01, 0.1, 1, 10, 100]\n",
        "}\n",
        "\n",
        "svc = SVC()\n",
        "svc_cv = GridSearchCV(estimator=svc, param_grid=parameters, cv=5).fit(X_train_resampled,y_train_resampled)\n",
        "\n",
        "print('Turned hyper parameter : ', svc_cv.best_params_)\n",
        "print('accurracy score : ', svc_cv.best_score_)"
      ]
    },
    {
      "cell_type": "code",
      "execution_count": null,
      "metadata": {
        "id": "-koSp5SBT1ye"
      },
      "outputs": [],
      "source": [
        "svc = SVC(**svc_cv.best_params_).fit(X_train_resampled, y_train_resampled)"
      ]
    },
    {
      "cell_type": "code",
      "execution_count": null,
      "metadata": {
        "id": "7hEhfFV1T16D"
      },
      "outputs": [],
      "source": [
        "y_pred_svc = svc_cv.predict(X_test)\n",
        "\n",
        "svc_score = round(svc.score(X_test, y_test),3)\n",
        "print('SVC Score : ', svc_score)"
      ]
    },
    {
      "cell_type": "code",
      "execution_count": null,
      "metadata": {
        "id": "Mm18wVGqT2Co"
      },
      "outputs": [],
      "source": [
        "print(classification_report(y_test, y_pred_svc))"
      ]
    },
    {
      "cell_type": "code",
      "execution_count": null,
      "metadata": {
        "id": "tHv22XgVT2NH"
      },
      "outputs": [],
      "source": [
        "print(confusion_matrix(y_test, y_pred_svc))"
      ]
    },
    {
      "cell_type": "markdown",
      "metadata": {
        "id": "ND1-Iyj7VREz"
      },
      "source": [
        "# Result"
      ]
    },
    {
      "cell_type": "code",
      "execution_count": null,
      "metadata": {
        "id": "QFCqMwDKWYG1"
      },
      "outputs": [],
      "source": [
        "result = pd.DataFrame({\n",
        "    'Model' : ['RandomForestClassifier', 'KNeighborsClassifier','SVC'],\n",
        "    'Score' : [rf_score, knn_score, svc_score]\n",
        "})\n",
        "\n",
        "result.sort_values(by='Score', inplace=True, ascending=True)"
      ]
    },
    {
      "cell_type": "code",
      "execution_count": null,
      "metadata": {
        "id": "GgTaepcpXvdc"
      },
      "outputs": [],
      "source": [
        "fig, ax = plt.subplots(1, 1, figsize=(15,5))\n",
        "\n",
        "sns.barplot(x='Model',y='Score', data=result)\n",
        "ax.bar_label(ax.containers[0])\n",
        "ax.set_xticklabels(labels=result.Model, rotation=300)\n",
        "plt.show()"
      ]
    },
    {
      "cell_type": "markdown",
      "metadata": {
        "id": "iczkSAArZxXF"
      },
      "source": [
        "**The Best Score : RandomForestClassifier**"
      ]
    },
    {
      "cell_type": "code",
      "execution_count": null,
      "metadata": {
        "id": "qhz-jzcTXvoI"
      },
      "outputs": [],
      "source": [
        "model = SVC(**svc_cv.best_params_)"
      ]
    },
    {
      "cell_type": "code",
      "execution_count": null,
      "metadata": {
        "id": "upqqYDo1Xvxi"
      },
      "outputs": [],
      "source": [
        "model.fit(X,y)"
      ]
    },
    {
      "cell_type": "markdown",
      "source": [
        "# Export file is .pki"
      ],
      "metadata": {
        "id": "-Beuf8KxkcW8"
      }
    },
    {
      "cell_type": "code",
      "source": [
        "import pickle\n",
        "\n",
        "with open('model.pkl', 'wb') as f:\n",
        "    pickle.dump(model, f)\n",
        "\n",
        "from google.colab import files\n",
        "files.download('model.pkl')"
      ],
      "metadata": {
        "id": "3v6I0-uImx6X"
      },
      "execution_count": null,
      "outputs": []
    }
  ],
  "metadata": {
    "colab": {
      "provenance": [],
      "authorship_tag": "ABX9TyNFzRbclaKISug/zDbvm/+h",
      "include_colab_link": true
    },
    "kernelspec": {
      "display_name": "Python 3",
      "name": "python3"
    },
    "language_info": {
      "name": "python"
    }
  },
  "nbformat": 4,
  "nbformat_minor": 0
}